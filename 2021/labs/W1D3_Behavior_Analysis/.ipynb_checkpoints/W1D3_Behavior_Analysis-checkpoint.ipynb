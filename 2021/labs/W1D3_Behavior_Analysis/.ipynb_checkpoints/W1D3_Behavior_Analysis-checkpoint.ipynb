{
  "nbformat": 4,
  "nbformat_minor": 0,
  "metadata": {
    "colab": {
      "name": "W1D3_Behavior_Analysis.ipynb",
      "provenance": [],
      "authorship_tag": "ABX9TyP5uqMuyio+aUpff233/lW4",
      "include_colab_link": true
    },
    "kernelspec": {
      "name": "python3",
      "display_name": "Python 3"
    },
    "language_info": {
      "name": "python"
    }
  },
  "cells": [
    {
      "cell_type": "markdown",
      "metadata": {
        "id": "view-in-github",
        "colab_type": "text"
      },
      "source": [
        "<a href=\"https://colab.research.google.com/github/pavolbauer/lindoscope-2021/blob/main/labs/W1D3_Behavior_Analysis/W1D3_Behavior_Analysis.ipynb\" target=\"_parent\"><img src=\"https://colab.research.google.com/assets/colab-badge.svg\" alt=\"Open In Colab\"/></a>"
      ]
    },
    {
      "cell_type": "code",
      "metadata": {
        "id": "CSaVd2DFsVuG"
      },
      "source": [
        "import numpy as np"
      ],
      "execution_count": null,
      "outputs": []
    },
    {
      "cell_type": "markdown",
      "metadata": {
        "id": "fJVOLQxDsXGj"
      },
      "source": [
        "Welcome to the behavior analysis lab!"
      ]
    }
  ]
}