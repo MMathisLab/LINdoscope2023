{
  "cells": [
    {
      "cell_type": "markdown",
      "metadata": {
        "id": "view-in-github",
        "colab_type": "text"
      },
      "source": [
        "<a href=\"https://colab.research.google.com/github/MMathisLab/LINdoscope2023/blob/main/notebooks/DeepLabCut_LindoScope_Colab_VideoAnalysis.ipynb\" target=\"_parent\"><img src=\"https://colab.research.google.com/assets/colab-badge.svg\" alt=\"Open In Colab\"/></a>"
      ]
    },
    {
      "cell_type": "markdown",
      "metadata": {
        "id": "RK255E7YoEIt"
      },
      "source": [
        "![alt text](https://camo.githubusercontent.com/71523c879284afa1c51b8489491f06d24d1ff02d75dca9f71078535ee6b1978e/68747470733a2f2f696d616765732e73717561726573706163652d63646e2e636f6d2f636f6e74656e742f76312f3537663664353163396637343536366635356563663237312f313632383235303030343232392d4b565944374a4a5648594546444a33324c39564a2f444c436c6f676f323032312e6a70673f666f726d61743d3130303077)\n",
        "\n",
        "👋 This notebook is a modified copy from [Github](https://colab.research.google.com/github/DeepLabCut/DeepLabCut/blob/master/examples/COLAB/COLAB_YOURDATA_TrainNetwork_VideoAnalysis.ipynb), originally written by Mackenzie Mathis and contributors.\n",
        "\n",
        "📝 This notebook accompanies Nath, Mathis et al. 2019 Nature Protocols https://www.nature.com/articles/s41596-019-0176-0, which is the DeepLabCut 2.0 version of  publication: Mathis et al 2018, https://doi.org/10.1038/s41593-018-0209-y. Original source: https://github.com/DeepLabCut/DeepLabCut\n",
        "\n",
        "⚠️ It has been edited for the 2023 EMBO practical course LINdoscope: https://www.lindoscope.com.\n",
        "\n",
        "\n",
        "This notebook illustrates how to use DeepLabCut and Colab to:\n",
        "- load a pretrained model from the Lindoscope Setting\n",
        "- analyze videos, filter data, create video w/keypoints\n"
      ]
    },
    {
      "cell_type": "markdown",
      "metadata": {
        "id": "txoddlM8hLKm"
      },
      "source": [
        "## First, go to \"Runtime\" ->\"change runtime type\"->select \"Python3\", and then select \"GPU\"\n"
      ]
    },
    {
      "cell_type": "code",
      "source": [
        "#(this will take a few minutes to install all the dependences!)\n",
        "!pip install deeplabcut"
      ],
      "metadata": {
        "id": "vLztNBNphoiN"
      },
      "execution_count": null,
      "outputs": []
    },
    {
      "cell_type": "markdown",
      "metadata": {
        "id": "25wSj6TlVclR"
      },
      "source": [
        "**(Be sure to click \"RESTART RUNTIME\" if it is displayed above above before moving on !)**"
      ]
    },
    {
      "cell_type": "markdown",
      "metadata": {
        "id": "cQ-nlTkri4HZ"
      },
      "source": [
        "## Link the Linodscope Google Drive:\n",
        "\n",
        "Note: we are going to work with the Mouse Body model, found here: https://drive.google.com/drive/u/0/folders/1ufvR2GP-TEVaR3Z4qnJgr2I1aCioAfND\n",
        "\n"
      ]
    },
    {
      "cell_type": "code",
      "execution_count": null,
      "metadata": {
        "id": "KS4Q4UkR9rgG"
      },
      "outputs": [],
      "source": [
        "from google.colab import drive\n",
        "drive.mount('/content/drive')"
      ]
    },
    {
      "cell_type": "markdown",
      "source": [
        "## Import Dependencies"
      ],
      "metadata": {
        "id": "L_a7wvgzGRFP"
      }
    },
    {
      "cell_type": "code",
      "source": [
        "%cd /content/drive/MyDrive/LINdoscope2023_analysis\n",
        "%ls"
      ],
      "metadata": {
        "id": "pU1gChUkG-qp"
      },
      "execution_count": null,
      "outputs": []
    },
    {
      "cell_type": "code",
      "execution_count": null,
      "metadata": {
        "id": "3K9Ndy1beyfG"
      },
      "outputs": [],
      "source": [
        "import matplotlib\n",
        "import os\n",
        "import deeplabcut"
      ]
    },
    {
      "cell_type": "markdown",
      "metadata": {
        "id": "Frnj1RVDyEqs"
      },
      "source": [
        "## Setup your project variables\n",
        "\n",
        "Here, we will use Oliver's model. But, if you want to change this if you have a new model, please do!\n",
        "\n",
        "- Modify variables **PretrainedModelFolderName** and **videofile_path** to names of a folder with a pretrained model and to the videos you would like to analyse, respectively.\n"
      ]
    },
    {
      "cell_type": "code",
      "execution_count": null,
      "metadata": {
        "id": "vhENAlQnFENJ"
      },
      "outputs": [],
      "source": [
        "# What is the name of your DLC project with the trained model:\n",
        "PretrainedModelFolderName = 'MouseBody-Barnstedt-2019-09-09'\n",
        "\n",
        "# What is the video you want to first test?\n",
        "\n",
        "videofile_path = '/content/drive/My Drive/LINdoscope2023_analysis/sample_data/DeepLabCut/demoVideo.mp4'\n",
        "length = 30 # desired length in seconds!\n",
        "\n",
        "# Edit these if needed\n",
        "framerate = 75\n",
        "outsuffix = '_short'\n",
        "VideoType = 'mp4'\n"
      ]
    },
    {
      "cell_type": "code",
      "source": [
        "# the Project/model config file:\n",
        "\n",
        "path_config_file = '/content/drive/MyDrive/LINdoscope2023_analysis/sample_data/DeepLabCut/config.yaml'\n",
        "path_config_file"
      ],
      "metadata": {
        "id": "vpwees4QJkKc"
      },
      "execution_count": null,
      "outputs": []
    },
    {
      "cell_type": "markdown",
      "source": [
        "## Optional: shorten video for speed\n",
        "\n",
        "- Here, we preload a video of a mouse on the 2P system.\n"
      ],
      "metadata": {
        "id": "8Tw8DXi-TpJx"
      }
    },
    {
      "cell_type": "code",
      "source": [
        "deeplabcut.ShortenVideo(videofile_path)?"
      ],
      "metadata": {
        "id": "EjF581V-OAEh"
      },
      "execution_count": null,
      "outputs": []
    },
    {
      "cell_type": "markdown",
      "metadata": {
        "id": "OVFLSKKfoEJk"
      },
      "source": [
        "## Start Analyzing videos with your pretrained model!\n",
        "This function analyzes your videos.\n",
        "\n",
        "The results are stored in hd5 file in the same directory where the video resides. The data is optionally also exported in comma-separated values format (.csv)."
      ]
    },
    {
      "cell_type": "code",
      "execution_count": null,
      "metadata": {
        "id": "Y_LZiS_0oEJl"
      },
      "outputs": [],
      "source": [
        "deeplabcut.analyze_videos(path_config_file, videofile_path, videotype=VideoType, shuffle=1, save_as_csv=False)"
      ]
    },
    {
      "cell_type": "markdown",
      "metadata": {
        "id": "LrkIDiciSWH1"
      },
      "source": [
        "You can also now filter your data to smooth any small jitters:"
      ]
    },
    {
      "cell_type": "code",
      "execution_count": null,
      "metadata": {
        "id": "X8SmVAIkSbLp"
      },
      "outputs": [],
      "source": [
        "deeplabcut.filterpredictions(path_config_file, videofile_path, videotype=VideoType, shuffle=1)"
      ]
    },
    {
      "cell_type": "markdown",
      "metadata": {
        "id": "8GTiuJESoEKH"
      },
      "source": [
        "## Plot the trajectories of the analyzed videos:\n",
        "This function plots the trajectories of all the body parts across the entire video. Each body part is identified by a unique color."
      ]
    },
    {
      "cell_type": "code",
      "execution_count": null,
      "metadata": {
        "id": "gX21zZbXoEKJ"
      },
      "outputs": [],
      "source": [
        "import matplotlib\n",
        "deeplabcut.plot_trajectories(path_config_file, videofile_path, videotype=VideoType, shuffle=1, filtered=True)"
      ]
    },
    {
      "cell_type": "markdown",
      "metadata": {
        "id": "pqaCw15v8EmB"
      },
      "source": [
        "Now you can look at the plot-poses file and check the \"plot-likelihood.png\" might want to change the \"p-cutoff\" in the config.yaml file so that you have only high confidnece points plotted in the video. i.e. ~0.8 or 0.9. The current default is 0.4."
      ]
    },
    {
      "cell_type": "markdown",
      "metadata": {
        "id": "pCrUvQIvoEKD"
      },
      "source": [
        "## Create labeled video\n",
        "This funtion is for visualiztion purpose and can be used to create a video in .mp4 format with labels predicted by the network. This video is saved in the same directory where the original video resides."
      ]
    },
    {
      "cell_type": "code",
      "execution_count": null,
      "metadata": {
        "id": "6aDF7Q7KoEKE"
      },
      "outputs": [],
      "source": [
        "deeplabcut.create_labeled_video(path_config_file,videofile_path, videotype=VideoType, shuffle=1, filtered=True)"
      ]
    }
  ],
  "metadata": {
    "colab": {
      "provenance": [],
      "include_colab_link": true
    },
    "kernelspec": {
      "display_name": "Python 3",
      "name": "python3"
    }
  },
  "nbformat": 4,
  "nbformat_minor": 0
}