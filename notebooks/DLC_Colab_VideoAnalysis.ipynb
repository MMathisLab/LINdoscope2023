{
  "cells": [
    {
      "cell_type": "markdown",
      "metadata": {
        "id": "view-in-github",
        "colab_type": "text"
      },
      "source": [
        "<a href=\"https://colab.research.google.com/github/alisabak/LINdoscope2023/blob/main/notebooks/DLC_Colab_VideoAnalysis.ipynb\" target=\"_parent\"><img src=\"https://colab.research.google.com/assets/colab-badge.svg\" alt=\"Open In Colab\"/></a>"
      ]
    },
    {
      "cell_type": "markdown",
      "metadata": {
        "id": "RK255E7YoEIt"
      },
      "source": [
        "# DeepLabCut Toolbox - Colab for standard (single animal) projects!\n",
        "This notebook is a modified copy from [Github](https://colab.research.google.com/github/DeepLabCut/DeepLabCut/blob/master/examples/COLAB/COLAB_YOURDATA_TrainNetwork_VideoAnalysis.ipynb), originally written by Mackenzie Mathis; publication: Mathis et al 2018, https://doi.org/10.1038/s41593-018-0209-y.\n",
        "\n",
        "It has been edited for the 2023 EMBO practical course LINdoscope: https://www.lindoscope.com.\n",
        "\n",
        "https://github.com/DeepLabCut/DeepLabCut\n",
        "\n",
        "![alt text](https://camo.githubusercontent.com/71523c879284afa1c51b8489491f06d24d1ff02d75dca9f71078535ee6b1978e/68747470733a2f2f696d616765732e73717561726573706163652d63646e2e636f6d2f636f6e74656e742f76312f3537663664353163396637343536366635356563663237312f313632383235303030343232392d4b565944374a4a5648594546444a33324c39564a2f444c436c6f676f323032312e6a70673f666f726d61743d3130303077)\n",
        "\n",
        "This notebook illustrates how to use colab to:\n",
        "- load a pretrained model\n",
        "- analyze novel videos, filter data, create videos\n",
        "\n",
        "This notebook demonstrates the necessary steps to use DeepLabCut for your own project. This shows the most simple code to do so, but many of the functions have additional features, so please check out the overview & the protocol paper.\n",
        "\n",
        "Nath\\*, Mathis\\* et al.: Using DeepLabCut for markerless pose estimation during behavior across species. Nature Protocols, 2019.\n",
        "\n",
        "Paper: https://www.nature.com/articles/s41596-019-0176-0\n",
        "\n",
        "Pre-print: https://www.biorxiv.org/content/biorxiv/early/2018/11/24/476531.full.pdf\n"
      ]
    },
    {
      "cell_type": "markdown",
      "metadata": {
        "id": "txoddlM8hLKm"
      },
      "source": [
        "## First, go to \"Runtime\" ->\"change runtime type\"->select \"Python3\", and then select \"GPU\"\n"
      ]
    },
    {
      "cell_type": "code",
      "source": [
        "#(this will take a few minutes to install all the dependences!)\n",
        "!pip install deeplabcut"
      ],
      "metadata": {
        "id": "vLztNBNphoiN"
      },
      "execution_count": null,
      "outputs": []
    },
    {
      "cell_type": "markdown",
      "metadata": {
        "id": "25wSj6TlVclR"
      },
      "source": [
        "**(Be sure to click \"RESTART RUNTIME\" if it is displayed above above before moving on !)**"
      ]
    },
    {
      "cell_type": "markdown",
      "metadata": {
        "id": "cQ-nlTkri4HZ"
      },
      "source": [
        "## Link your Google Drive\n",
        "\n",
        "1. First, add a shortcut to a pretrained DLC model into you google drive. To do so, right click on the desired folder -> Organise -> Add shortcut -> My Drive -> Add\n",
        "\n",
        "2. Next, add [a shortcut to] a folder with videos that you want to analyse to your Google Drive\n",
        "\n",
        "3. Now, let's link to your GoogleDrive. Run the cell below and follow the authorization instructions\n",
        "\n"
      ]
    },
    {
      "cell_type": "code",
      "execution_count": null,
      "metadata": {
        "id": "KS4Q4UkR9rgG"
      },
      "outputs": [],
      "source": [
        "from google.colab import drive\n",
        "drive.mount('/content/drive')"
      ]
    },
    {
      "cell_type": "markdown",
      "metadata": {
        "id": "Frnj1RVDyEqs"
      },
      "source": [
        "## Setup your project variables\n",
        "Modify variables **PrertrainedModelFolderName** and **VideoFolderName** to names of a folder with a pretrained model and to the videos you would like to analyse, respectively.\n"
      ]
    },
    {
      "cell_type": "code",
      "execution_count": null,
      "metadata": {
        "id": "vhENAlQnFENJ"
      },
      "outputs": [],
      "source": [
        "# PLEASE EDIT THESE:\n",
        "PrertrainedModelFolderName = 'For LINdoscope test/top_transparent-Alisa-2023-02-08'\n",
        "VideoFolderName = 'For LINdoscope test/videos'\n",
        "VideoType = 'mp4'\n",
        "\n",
        "#don't edit these:\n",
        "videofile_path = ['/content/drive/My Drive/'+VideoFolderName] #Enter the list of videos or folder to analyze.\n",
        "videofile_path\n",
        "\n",
        "#This creates a path variable that links to your google drive copy\n",
        "#No need to edit this, as you set it up before:\n",
        "path_config_file = '/content/drive/My Drive/'+PrertrainedModelFolderName+'/config.yaml'\n",
        "path_config_file"
      ]
    },
    {
      "cell_type": "code",
      "execution_count": null,
      "metadata": {
        "id": "3K9Ndy1beyfG"
      },
      "outputs": [],
      "source": [
        "import deeplabcut\n",
        "deeplabcut.__version__"
      ]
    },
    {
      "cell_type": "markdown",
      "metadata": {
        "id": "OVFLSKKfoEJk"
      },
      "source": [
        "## Start Analyzing videos\n",
        "This function analyzes your videos.\n",
        "\n",
        "The results are stored in hd5 file in the same directory where the video resides. The data is also exported in comma-separated values format (.csv)."
      ]
    },
    {
      "cell_type": "code",
      "execution_count": null,
      "metadata": {
        "id": "Y_LZiS_0oEJl"
      },
      "outputs": [],
      "source": [
        "deeplabcut.analyze_videos(path_config_file, videofile_path, videotype=VideoType, shuffle=1, save_as_csv=True)"
      ]
    },
    {
      "cell_type": "markdown",
      "metadata": {
        "id": "LrkIDiciSWH1"
      },
      "source": [
        "You can also now filter your data to smooth any small jitters:"
      ]
    },
    {
      "cell_type": "code",
      "execution_count": null,
      "metadata": {
        "id": "X8SmVAIkSbLp"
      },
      "outputs": [],
      "source": [
        "deeplabcut.filterpredictions(path_config_file, videofile_path, videotype=VideoType, shuffle=1)"
      ]
    },
    {
      "cell_type": "markdown",
      "metadata": {
        "id": "8GTiuJESoEKH"
      },
      "source": [
        "## Plot the trajectories of the analyzed videos:\n",
        "This function plots the trajectories of all the body parts across the entire video. Each body part is identified by a unique color."
      ]
    },
    {
      "cell_type": "code",
      "execution_count": null,
      "metadata": {
        "id": "gX21zZbXoEKJ"
      },
      "outputs": [],
      "source": [
        "import matplotlib\n",
        "deeplabcut.plot_trajectories(path_config_file, videofile_path, videotype=VideoType, shuffle=1, filtered=True)"
      ]
    },
    {
      "cell_type": "markdown",
      "metadata": {
        "id": "pqaCw15v8EmB"
      },
      "source": [
        "Now you can look at the plot-poses file and check the \"plot-likelihood.png\" might want to change the \"p-cutoff\" in the config.yaml file so that you have only high confidnece points plotted in the video. i.e. ~0.8 or 0.9. The current default is 0.4."
      ]
    },
    {
      "cell_type": "markdown",
      "metadata": {
        "id": "pCrUvQIvoEKD"
      },
      "source": [
        "## Create labeled video\n",
        "This funtion is for visualiztion purpose and can be used to create a video in .mp4 format with labels predicted by the network. This video is saved in the same directory where the original video resides."
      ]
    },
    {
      "cell_type": "code",
      "execution_count": null,
      "metadata": {
        "id": "6aDF7Q7KoEKE"
      },
      "outputs": [],
      "source": [
        "deeplabcut.create_labeled_video(path_config_file,videofile_path, videotype=VideoType, shuffle=1, filtered=True)"
      ]
    }
  ],
  "metadata": {
    "accelerator": "GPU",
    "colab": {
      "provenance": [],
      "gpuType": "T4",
      "include_colab_link": true
    },
    "kernelspec": {
      "display_name": "Python 3",
      "name": "python3"
    }
  },
  "nbformat": 4,
  "nbformat_minor": 0
}