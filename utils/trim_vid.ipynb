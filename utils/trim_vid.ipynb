{
  "nbformat": 4,
  "nbformat_minor": 0,
  "metadata": {
    "colab": {
      "provenance": [],
      "mount_file_id": "1nMuzqtUJMWK5bgs0OLIZCGaUT2QhvE4D",
      "authorship_tag": "ABX9TyO2l/IeeyC3nPMieeE1FaMX",
      "include_colab_link": true
    },
    "kernelspec": {
      "name": "python3",
      "display_name": "Python 3"
    },
    "language_info": {
      "name": "python"
    }
  },
  "cells": [
    {
      "cell_type": "markdown",
      "metadata": {
        "id": "view-in-github",
        "colab_type": "text"
      },
      "source": [
        "<a href=\"https://colab.research.google.com/github/obarnstedt/LINdoscope2023/blob/main/trim_vid.ipynb\" target=\"_parent\"><img src=\"https://colab.research.google.com/assets/colab-badge.svg\" alt=\"Open In Colab\"/></a>"
      ]
    },
    {
      "cell_type": "code",
      "execution_count": 5,
      "metadata": {
        "id": "bHsJrBHXElyk"
      },
      "outputs": [],
      "source": [
        "def trim_video(path_in, path_out, stop_frame, start_frame=0):\n",
        "  import cv2\n",
        "  from tqdm import tqdm\n",
        "  cap = cv2.VideoCapture(path_in)\n",
        "  cap.set(1, start_frame)\n",
        "  frame_width = int(cap.get(cv2.CAP_PROP_FRAME_WIDTH))\n",
        "  frame_height = int(cap.get(cv2.CAP_PROP_FRAME_HEIGHT))\n",
        "  fps = int(cap.get(cv2.CAP_PROP_FPS))\n",
        "  vid_trimmed = cv2.VideoWriter(path_out, cv2.VideoWriter_fourcc(*\"mp4v\"),\n",
        "                                fps, (frame_width, frame_height))\n",
        "  vidlength = stop_frame - start_frame\n",
        "  i = start_frame\n",
        "\n",
        "  print('Trimming video...')\n",
        "  with tqdm(total=vidlength) as pbar:\n",
        "      while cap.isOpened():\n",
        "          _, current_frame = cap.read()\n",
        "          if current_frame is None or i>=stop_frame:\n",
        "              break\n",
        "          vid_trimmed.write(current_frame)\n",
        "          pbar.update(1)\n",
        "          i+=1\n",
        "  cap.release()\n",
        "  vid_trimmed.release()\n",
        "\n",
        "  return path_out"
      ]
    },
    {
      "cell_type": "code",
      "source": [
        "trim_video('/content/drive/MyDrive/LINdoscope2023_analysis/sample_data/MouseFlow/Basler acA780-75gm (22611477)_20190220_105916470_trim.mp4',\n",
        "           '/content/drive/MyDrive/LINdoscope2023_analysis/sample_data/MouseFlow/Basler acA780-75gm (22611477)_20190220_105916470_trim_more.mp4',\n",
        "           200)"
      ],
      "metadata": {
        "colab": {
          "base_uri": "https://localhost:8080/",
          "height": 70
        },
        "id": "-sgWZwKMFJVT",
        "outputId": "b6d91eea-c88d-4bdf-b298-a3fed9a002e9"
      },
      "execution_count": 6,
      "outputs": [
        {
          "output_type": "stream",
          "name": "stdout",
          "text": [
            "Trimming video...\n"
          ]
        },
        {
          "output_type": "stream",
          "name": "stderr",
          "text": [
            "100%|██████████| 200/200 [00:01<00:00, 118.79it/s]\n"
          ]
        },
        {
          "output_type": "execute_result",
          "data": {
            "text/plain": [
              "'/content/drive/MyDrive/LINdoscope2023_analysis/sample_data/MouseFlow/Basler acA780-75gm (22611477)_20190220_105916470_trim_more.mp4'"
            ],
            "application/vnd.google.colaboratory.intrinsic+json": {
              "type": "string"
            }
          },
          "metadata": {},
          "execution_count": 6
        }
      ]
    }
  ]
}